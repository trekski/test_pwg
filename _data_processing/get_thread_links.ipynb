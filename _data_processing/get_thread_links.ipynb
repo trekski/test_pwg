{
 "cells": [
  {
   "cell_type": "code",
   "execution_count": 1,
   "metadata": {},
   "outputs": [],
   "source": [
    "import pandas as pd\n",
    "from sqlalchemy import create_engine\n",
    "import os\n",
    "import shutil\n",
    "import yaml\n",
    "import re\n",
    "import html"
   ]
  },
  {
   "cell_type": "code",
   "execution_count": 2,
   "metadata": {},
   "outputs": [],
   "source": [
    "default_forum_id = 22\n",
    "threads_per_page = 25"
   ]
  },
  {
   "cell_type": "code",
   "execution_count": 3,
   "metadata": {},
   "outputs": [],
   "source": [
    "with open(\"get_thread_links.sql\", \"r\") as f:\n",
    "    sql_template = f.readlines()\n",
    "slq_statement = ''.join(sql_template).format(default_forum_id = default_forum_id, threads_per_page=threads_per_page)"
   ]
  },
  {
   "cell_type": "code",
   "execution_count": 4,
   "metadata": {},
   "outputs": [],
   "source": [
    "db = os.environ.get('PSQL_DATABASE')\n",
    "host = 'localhost'\n",
    "user ='user'\n",
    "port = '5432'\n",
    "psql_engine = f'postgresql://{user}:@{host}:{port}/{db}'"
   ]
  },
  {
   "cell_type": "code",
   "execution_count": 5,
   "metadata": {},
   "outputs": [],
   "source": [
    "df = pd.read_sql(slq_statement, psql_engine)"
   ]
  },
  {
   "cell_type": "code",
   "execution_count": 6,
   "metadata": {},
   "outputs": [],
   "source": [
    "topic_links = {\n",
    "    int(val['topic_id']) : {\n",
    "        'forum_id' : int(val['forum_id']), \n",
    "        'thread_page' : int(val['thread_page'])\n",
    "    }\n",
    "    for val in df.T.to_dict().values()\n",
    "}"
   ]
  },
  {
   "cell_type": "code",
   "execution_count": 7,
   "metadata": {},
   "outputs": [],
   "source": [
    "with open('topic_links.yml', 'w') as f:\n",
    "    f.write(yaml.dump(topic_links))"
   ]
  },
  {
   "cell_type": "code",
   "execution_count": null,
   "metadata": {},
   "outputs": [],
   "source": []
  }
 ],
 "metadata": {
  "kernelspec": {
   "display_name": "Python 3",
   "language": "python",
   "name": "python3"
  },
  "language_info": {
   "codemirror_mode": {
    "name": "ipython",
    "version": 3
   },
   "file_extension": ".py",
   "mimetype": "text/x-python",
   "name": "python",
   "nbconvert_exporter": "python",
   "pygments_lexer": "ipython3",
   "version": "3.10.12"
  }
 },
 "nbformat": 4,
 "nbformat_minor": 2
}
