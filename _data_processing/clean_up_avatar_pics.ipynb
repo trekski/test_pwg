{
 "cells": [
  {
   "cell_type": "code",
   "execution_count": null,
   "metadata": {},
   "outputs": [],
   "source": [
    "import pandas as pd\n",
    "from sqlalchemy import create_engine\n",
    "import os\n",
    "import shutil"
   ]
  },
  {
   "cell_type": "code",
   "execution_count": null,
   "metadata": {},
   "outputs": [],
   "source": [
    "backup_base_path = '/media/trekker/Extreme SSD/PWGay_backup_12082023/public_html/pwgay/forum'"
   ]
  },
  {
   "cell_type": "code",
   "execution_count": null,
   "metadata": {},
   "outputs": [],
   "source": [
    "avatars_input_dir = os.path.join(backup_base_path, 'images', 'avatars')\n",
    "avatart_output_dir = '../_tests/assets/avatars/'\n",
    "if not os.path.exists(avatart_output_dir):\n",
    "    os.makedirs(avatart_output_dir)"
   ]
  },
  {
   "cell_type": "code",
   "execution_count": null,
   "metadata": {},
   "outputs": [],
   "source": [
    "db = os.environ.get('PSQL_DATABASE')\n",
    "host = 'localhost'\n",
    "user ='user'\n",
    "port = '5432'\n",
    "psql_engine = f'postgresql://{user}:@{host}:{port}/{db}'"
   ]
  },
  {
   "cell_type": "markdown",
   "metadata": {},
   "source": [
    "avatar_type :\n",
    "* 0 -> no avatar\n",
    "* 1- > [ueser_id]_[some_other_id].jpg, This is then is stored in forum/images/avatars/upload[hash?]_[user_id].jpg. for example:\n",
    "  * `1764_1392419933.jpg`\n",
    "  * `1994\t1994_1364321301.jpg`\n",
    "* 2 -> a normal URL, for example:\n",
    "  * `http://www.skyscrapercity.com/customavatars/avatar170739_1.gif`\n",
    "  * `http://www.sherv.net/cm/emoticons/penguins/socially-awkward-penguin-meme-smiley-emoticon.png`\n",
    "  * `http://popdust.presscdn.com/wp-content/uploads/2011/03/ladyGaga_110904581-150x150.jpg`\n",
    "* 3 -> is always a path relative to forum/images/avatars, for example:\n",
    "  * `tetes/iconbebe2.gif`\n",
    "  * `custom/gryf.gif`\n",
    "  * `600/558.gif`"
   ]
  },
  {
   "cell_type": "code",
   "execution_count": null,
   "metadata": {},
   "outputs": [],
   "source": [
    "custom_avatar_src_path = os.path.join(\n",
    "        avatars_input_dir,\n",
    "        'upload'\n",
    "    )"
   ]
  },
  {
   "cell_type": "code",
   "execution_count": null,
   "metadata": {},
   "outputs": [],
   "source": [
    "custom_avatar_dest_dir = os.path.join(avatart_output_dir, 'upload')\n",
    "if not os.path.exists(custom_avatar_dest_dir):\n",
    "    os.makedirs(custom_avatar_dest_dir)"
   ]
  },
  {
   "cell_type": "code",
   "execution_count": null,
   "metadata": {},
   "outputs": [],
   "source": [
    "uploaded_avatars = os.listdir(\n",
    "    custom_avatar_src_path\n",
    ")\n",
    "uploaded_avatars= [\n",
    "    filename\n",
    "    for filename in uploaded_avatars\n",
    "    if len(filename.split('_')) > 1\n",
    "]"
   ]
  },
  {
   "cell_type": "code",
   "execution_count": null,
   "metadata": {},
   "outputs": [],
   "source": [
    "for avatar_filename in uploaded_avatars:\n",
    "    user_id = avatar_filename.split('.')[0].split('_')[1]\n",
    "    ext = avatar_filename.split('.')[1]\n",
    "    src = os.path.join(custom_avatar_src_path, avatar_filename)\n",
    "    new_filename = f'{user_id}.{ext}'\n",
    "    dst = os.path.join(custom_avatar_dest_dir, new_filename)\n",
    "    shutil.copy(src, dst)"
   ]
  },
  {
   "cell_type": "code",
   "execution_count": null,
   "metadata": {},
   "outputs": [],
   "source": [
    "unique_predefined_avatar_folders_sql = '''\n",
    "SELECT DISTINCT split_part(user_avatar, '/', 1) as folder from phpbb_users WHERE user_avatar_type = 3\n",
    "'''\n",
    "df = pd.read_sql(unique_predefined_avatar_folders_sql, psql_engine)\n",
    "for f in df['folder'].tolist():\n",
    "    predef_avatar_folder_dest = os.path.join(avatart_output_dir, 'gallery', f)\n",
    "    if not os.path.exists(predef_avatar_folder_dest):\n",
    "        os.makedirs(predef_avatar_folder_dest)"
   ]
  },
  {
   "cell_type": "code",
   "execution_count": null,
   "metadata": {},
   "outputs": [],
   "source": [
    "unique_predefined_avatas_sql = '''\n",
    "SELECT DISTINCT user_avatar as avatar from phpbb_users WHERE user_avatar_type = 3\n",
    "'''\n",
    "df = pd.read_sql(unique_predefined_avatas_sql, psql_engine)\n",
    "\n",
    "for a in df['avatar'].tolist():\n",
    "    src = os.path.join(avatars_input_dir, 'gallery', a)\n",
    "    dst = os.path.join(avatart_output_dir, 'gallery', a)\n",
    "    shutil.copy(src, dst)"
   ]
  },
  {
   "cell_type": "code",
   "execution_count": null,
   "metadata": {},
   "outputs": [],
   "source": [
    "src"
   ]
  },
  {
   "cell_type": "code",
   "execution_count": null,
   "metadata": {},
   "outputs": [],
   "source": []
  }
 ],
 "metadata": {
  "kernelspec": {
   "display_name": "Python 3",
   "language": "python",
   "name": "python3"
  },
  "language_info": {
   "codemirror_mode": {
    "name": "ipython",
    "version": 3
   },
   "file_extension": ".py",
   "mimetype": "text/x-python",
   "name": "python",
   "nbconvert_exporter": "python",
   "pygments_lexer": "ipython3",
   "version": "3.10.12"
  }
 },
 "nbformat": 4,
 "nbformat_minor": 2
}
