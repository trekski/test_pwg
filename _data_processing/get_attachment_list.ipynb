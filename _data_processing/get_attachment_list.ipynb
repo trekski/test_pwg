{
 "cells": [
  {
   "cell_type": "code",
   "execution_count": 92,
   "metadata": {},
   "outputs": [],
   "source": [
    "import pandas as pd\n",
    "import os\n",
    "import shutil\n",
    "import yaml"
   ]
  },
  {
   "cell_type": "code",
   "execution_count": 60,
   "metadata": {},
   "outputs": [],
   "source": [
    "db = os.environ.get('PSQL_DATABASE')\n",
    "host = 'localhost'\n",
    "user ='user'\n",
    "port = '5432'\n",
    "psql_engine = f'postgresql://{user}:@{host}:{port}/{db}'"
   ]
  },
  {
   "cell_type": "code",
   "execution_count": 61,
   "metadata": {},
   "outputs": [],
   "source": [
    "backup_base_path = os.path.join('/media','trekker','Extreme SSD','PWGay_backup_12082023','public_html','pwgay','forum')\n",
    "attachments_input_dir = os.path.join(backup_base_path, 'files')\n",
    "attachments_output_dir = os.path.join('..', '_tests','assets', 'attachments')\n",
    "if not os.path.exists(attachments_output_dir):\n",
    "    os.makedirs(attachments_output_dir)"
   ]
  },
  {
   "cell_type": "code",
   "execution_count": 62,
   "metadata": {},
   "outputs": [],
   "source": [
    "with open(\"get_attachment_list.sql\", \"r\") as f:\n",
    "    slq_statement = f.read()"
   ]
  },
  {
   "cell_type": "code",
   "execution_count": 63,
   "metadata": {},
   "outputs": [],
   "source": [
    "df = pd.read_sql(slq_statement, psql_engine)"
   ]
  },
  {
   "cell_type": "code",
   "execution_count": 64,
   "metadata": {},
   "outputs": [],
   "source": [
    "map_filenames = df[['physical_filename', 'real_filename']].to_dict(orient='records')"
   ]
  },
  {
   "cell_type": "code",
   "execution_count": 65,
   "metadata": {},
   "outputs": [],
   "source": [
    "for file in map_filenames:\n",
    "    old_filename = os.path.join(attachments_input_dir, file['physical_filename'])\n",
    "    new_path = os.path.join(attachments_output_dir, file['physical_filename'])\n",
    "    new_filename = os.path.join(new_path, file['real_filename'])\n",
    "    if not os.path.exists(new_path):\n",
    "        os.makedirs(new_path)\n",
    "    shutil.copy(old_filename, new_filename)"
   ]
  },
  {
   "cell_type": "code",
   "execution_count": 153,
   "metadata": {},
   "outputs": [],
   "source": [
    "attachments_reg = {}\n",
    "for i in df['post_msg_id'].unique():\n",
    "    atts = df[df['post_msg_id'] == i]\n",
    "    atts = atts[['att_order','physical_filename','real_filename','comment','ext','mimetype']]\n",
    "    atts = atts.to_dict(orient='records')\n",
    "    d = {item['att_order'] : {k : v for k, v in item.items() if k !='att_order'} for item in atts }\n",
    "    attachments_reg[int(i)] = d"
   ]
  },
  {
   "cell_type": "code",
   "execution_count": 154,
   "metadata": {},
   "outputs": [],
   "source": [
    "attachments_reg_path = os.path.join('..', '_tests', '_data', 'attachments.yml')\n",
    "with open(attachments_reg_path, 'w') as f:\n",
    "    f.write(yaml.dump(attachments_reg))"
   ]
  },
  {
   "cell_type": "code",
   "execution_count": null,
   "metadata": {},
   "outputs": [],
   "source": []
  }
 ],
 "metadata": {
  "kernelspec": {
   "display_name": "Python 3",
   "language": "python",
   "name": "python3"
  },
  "language_info": {
   "codemirror_mode": {
    "name": "ipython",
    "version": 3
   },
   "file_extension": ".py",
   "mimetype": "text/x-python",
   "name": "python",
   "nbconvert_exporter": "python",
   "pygments_lexer": "ipython3",
   "version": "3.10.12"
  }
 },
 "nbformat": 4,
 "nbformat_minor": 2
}
