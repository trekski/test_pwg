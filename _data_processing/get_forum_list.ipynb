{
 "cells": [
  {
   "cell_type": "code",
   "execution_count": 1,
   "metadata": {
    "metadata": {}
   },
   "outputs": [],
   "source": [
    "import pandas as pd\n",
    "from sqlalchemy import create_engine\n",
    "import os\n",
    "import re\n",
    "import yaml"
   ]
  },
  {
   "cell_type": "code",
   "execution_count": 2,
   "metadata": {
    "metadata": {}
   },
   "outputs": [],
   "source": [
    "db = os.environ.get('PSQL_DATABASE')\n",
    "host = 'localhost'\n",
    "user ='user'\n",
    "port = '5432'\n",
    "psql_engine = f'postgresql://{user}:@{host}:{port}/{db}'"
   ]
  },
  {
   "cell_type": "code",
   "execution_count": 3,
   "metadata": {
    "metadata": {}
   },
   "outputs": [],
   "source": [
    "exlcude_forums = [9, 10, 14, 18]"
   ]
  },
  {
   "cell_type": "code",
   "execution_count": 4,
   "metadata": {
    "metadata": {}
   },
   "outputs": [],
   "source": [
    "exlcude_forums_where = ', '.join([str(fid) for fid in exlcude_forums])\n",
    "with open(\"get_forum_list.sql\", \"r\") as f:\n",
    "    sql_template = f.read()\n",
    "slq_statement = ''.join(sql_template).format(exlcude_forums = exlcude_forums_where)"
   ]
  },
  {
   "cell_type": "code",
   "execution_count": 6,
   "metadata": {
    "metadata": {}
   },
   "outputs": [],
   "source": [
    "df = pd.read_sql(slq_statement, psql_engine)"
   ]
  },
  {
   "cell_type": "code",
   "execution_count": 10,
   "metadata": {
    "metadata": {}
   },
   "outputs": [],
   "source": [
    "with open('forum_checklist.yml', 'w') as f:\n",
    "    f.write(\n",
    "        yaml.dump(\n",
    "            df.forum_id.to_list()\n",
    "        )\n",
    "    )"
   ]
  },
  {
   "cell_type": "code",
   "execution_count": null,
   "metadata": {
    "metadata": {}
   },
   "outputs": [],
   "source": [
    "def map_smiely_code(value):\n",
    "    result = value\n",
    "    match value:\n",
    "        case ':D':\n",
    "            result = ':grin:'\n",
    "        case ':)':\n",
    "            result = ':smile:'\n",
    "    return result\n"
   ]
  },
  {
   "cell_type": "code",
   "execution_count": null,
   "metadata": {
    "metadata": {}
   },
   "outputs": [],
   "source": [
    "def replace_smilies(txt):\n",
    "    pattern = r'\\<\\!\\-\\- s([^-]+) \\-\\-\\>\\<img +src\\=\\\"\\{SMILIES\\_PATH\\}\\/[a-zA-Z0-9\\.\\_]+\\\"(?: +alt\\=\\\"[^\\\"]+\\\")?(?: +title\\=\\\"[^\"]+\\\")? \\/\\>\\<\\!\\-\\- s[^-]+ \\-\\-\\>'\n",
    "    txt = re.split(\n",
    "        pattern,\n",
    "        txt\n",
    "    )\n",
    "    txt = [value if index%2 == 0 else  map_smiely_code(value) for index, value in enumerate(txt)]\n",
    "\n",
    "    return ''.join(txt)"
   ]
  },
  {
   "cell_type": "code",
   "execution_count": null,
   "metadata": {
    "metadata": {}
   },
   "outputs": [],
   "source": [
    "df['forum_description'] = df['forum_description'].apply(lambda x: replace_smilies(x))"
   ]
  },
  {
   "cell_type": "code",
   "execution_count": null,
   "metadata": {
    "metadata": {}
   },
   "outputs": [],
   "source": [
    "all_forums = []\n",
    "groups = df[['grp_id', 'grp_name']].drop_duplicates().T.to_dict().values()\n",
    "\n",
    "for grp in groups:\n",
    "\n",
    "    grp_id = grp['grp_id']\n",
    "    grp_name = grp['grp_name']\n",
    "\n",
    "    forum_subset = df[df['grp_id'] == grp_id]\n",
    "\n",
    "    forum_group = grp.copy()\n",
    "    forum_group['fora'] = [\n",
    "        {\n",
    "            k : v\n",
    "            for k, v in forum.items()\n",
    "            if k not in ['grp_id', 'grp_name']\n",
    "        }\n",
    "        for forum in forum_subset.T.to_dict().values()\n",
    "    ]\n",
    "    all_forums.append(forum_group)"
   ]
  },
  {
   "cell_type": "code",
   "execution_count": null,
   "metadata": {
    "metadata": {}
   },
   "outputs": [],
   "source": [
    "yml_path = os.path.join('..', '_tests', '_data', 'lista_for.yml')\n",
    "with open(yml_path, 'w') as f:\n",
    "    f.write(yaml.dump(all_forums))"
   ]
  },
  {
   "cell_type": "code",
   "execution_count": null,
   "metadata": {
    "metadata": {}
   },
   "outputs": [],
   "source": [
    "md_template = '''---\n",
    "layout: forum_thread_list\n",
    "forum: {fid}\n",
    "permalink: /forum/{fid}\n",
    "pagination: \n",
    "  enabled: true\n",
    "  collection: threads\n",
    "  per_page: 25\n",
    "  sort_field: thread_order \n",
    "  category: '{fid}'\n",
    "  trail: \n",
    "    before: 2\n",
    "    after: 2\n",
    "breadcrumbs:\n",
    "    - name: Lista For\n",
    "      href: /forum_list.html\n",
    "    - name: {fname}\n",
    "      href: /forum/{fid}/index.html\n",
    "---'''"
   ]
  },
  {
   "cell_type": "code",
   "execution_count": null,
   "metadata": {
    "metadata": {}
   },
   "outputs": [],
   "source": [
    "for i in df.T.to_dict().values():\n",
    "\n",
    "    fid = i['forum_id']\n",
    "    fname=i['forum_name']\n",
    "\n",
    "    md_content = md_template.format(fid=fid, fname=fname)\n",
    "    md_path = os.path.join('..', '_tests', 'forum', f'forum_{fid}.md')\n",
    "\n",
    "    with open(md_path, 'w') as f:\n",
    "        f.write(md_content)"
   ]
  },
  {
   "cell_type": "code",
   "execution_count": null,
   "metadata": {},
   "outputs": [],
   "source": []
  }
 ],
 "metadata": {
  "kernelspec": {
   "display_name": "Python 3",
   "language": "python",
   "name": "python3"
  },
  "language_info": {
   "codemirror_mode": {
    "name": "ipython",
    "version": 3
   },
   "file_extension": ".py",
   "mimetype": "text/x-python",
   "name": "python",
   "nbconvert_exporter": "python",
   "pygments_lexer": "ipython3",
   "version": "3.10.12"
  }
 },
 "nbformat": 4,
 "nbformat_minor": 2
}
