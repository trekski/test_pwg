{
 "cells": [
  {
   "cell_type": "code",
   "execution_count": 1,
   "metadata": {},
   "outputs": [],
   "source": [
    "import pandas as pd\n",
    "import os\n",
    "import shutil\n",
    "import yaml"
   ]
  },
  {
   "cell_type": "code",
   "execution_count": 2,
   "metadata": {},
   "outputs": [],
   "source": [
    "db = os.environ.get('PSQL_DATABASE')\n",
    "host = 'localhost'\n",
    "user ='user'\n",
    "port = '5432'\n",
    "psql_engine = f'postgresql://{user}:@{host}:{port}/{db}'"
   ]
  },
  {
   "cell_type": "code",
   "execution_count": 27,
   "metadata": {},
   "outputs": [],
   "source": [
    "with open(\"get_smiley_code_map.sql\", \"r\") as f:\n",
    "    slq_statement = f.read()\n",
    "\n",
    "df = pd.read_sql(slq_statement, psql_engine)\n",
    "\n",
    "code_map = {i['code'] : i['smiley_id'] for i in df.T.to_dict().values()}\n",
    "\n",
    "with open('smiley_code_map.yaml', 'w') as f:\n",
    "    f.write(yaml.dump(code_map)) "
   ]
  },
  {
   "cell_type": "code",
   "execution_count": 30,
   "metadata": {},
   "outputs": [],
   "source": [
    "with open(\"get_smiley_dict.sql\", \"r\") as f:\n",
    "    slq_statement = f.read()\n",
    "\n",
    "df = pd.read_sql(slq_statement, psql_engine)\n",
    "\n",
    "code_map = {i['smiley_code'] : {'smiley_url' : i['smiley_url'], 'emotion' : i['emotion']} for i in df.T.to_dict().values()}\n",
    "\n",
    "with open('get_smiley_dict.yaml', 'w') as f:\n",
    "    f.write(yaml.dump(code_map)) "
   ]
  },
  {
   "cell_type": "code",
   "execution_count": null,
   "metadata": {},
   "outputs": [],
   "source": []
  }
 ],
 "metadata": {
  "kernelspec": {
   "display_name": "Python 3",
   "language": "python",
   "name": "python3"
  },
  "language_info": {
   "codemirror_mode": {
    "name": "ipython",
    "version": 3
   },
   "file_extension": ".py",
   "mimetype": "text/x-python",
   "name": "python",
   "nbconvert_exporter": "python",
   "pygments_lexer": "ipython3",
   "version": "3.10.12"
  }
 },
 "nbformat": 4,
 "nbformat_minor": 2
}
