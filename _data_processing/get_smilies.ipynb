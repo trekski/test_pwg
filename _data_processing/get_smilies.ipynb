{
 "cells": [
  {
   "cell_type": "code",
   "execution_count": 6,
   "metadata": {},
   "outputs": [],
   "source": [
    "import pandas as pd\n",
    "import os\n",
    "import shutil\n",
    "import yaml"
   ]
  },
  {
   "cell_type": "code",
   "execution_count": 7,
   "metadata": {},
   "outputs": [],
   "source": [
    "db = os.environ.get('PSQL_DATABASE')\n",
    "host = 'localhost'\n",
    "user ='user'\n",
    "port = '5432'\n",
    "psql_engine = f'postgresql://{user}:@{host}:{port}/{db}'"
   ]
  },
  {
   "cell_type": "code",
   "execution_count": 8,
   "metadata": {},
   "outputs": [],
   "source": [
    "with open(\"get_smiley_code_map.sql\", \"r\") as f:\n",
    "    slq_statement = f.read()\n",
    "\n",
    "df = pd.read_sql(slq_statement, psql_engine)\n",
    "\n",
    "code_map = {i['code'] : i['smiley_id'] for i in df.T.to_dict().values()}\n",
    "\n",
    "with open('smiley_code_map.yml', 'w') as f:\n",
    "    f.write(yaml.dump(code_map)) "
   ]
  },
  {
   "cell_type": "code",
   "execution_count": 9,
   "metadata": {},
   "outputs": [],
   "source": [
    "with open(\"get_smiley_dict.sql\", \"r\") as f:\n",
    "    slq_statement = f.read()\n",
    "\n",
    "df = pd.read_sql(slq_statement, psql_engine)\n",
    "\n",
    "code_map = {\n",
    "    i['smiley_code'] : {\n",
    "        'smiley_url' : i['smiley_url'],\n",
    "        'emotion' : i['emotion'],\n",
    "        'w' : i['w'],\n",
    "        'h' : i['h']\n",
    "    }\n",
    "    for i in df.T.to_dict().values()\n",
    "}\n",
    "\n",
    "file_path = os.path.join('..', '_tests', '_data', 'smiley_dict.yml')\n",
    "with open(file_path, 'w') as f:\n",
    "    f.write(yaml.dump(code_map)) "
   ]
  },
  {
   "cell_type": "code",
   "execution_count": null,
   "metadata": {},
   "outputs": [],
   "source": []
  }
 ],
 "metadata": {
  "kernelspec": {
   "display_name": "Python 3",
   "language": "python",
   "name": "python3"
  },
  "language_info": {
   "codemirror_mode": {
    "name": "ipython",
    "version": 3
   },
   "file_extension": ".py",
   "mimetype": "text/x-python",
   "name": "python",
   "nbconvert_exporter": "python",
   "pygments_lexer": "ipython3",
   "version": "3.10.12"
  }
 },
 "nbformat": 4,
 "nbformat_minor": 2
}
