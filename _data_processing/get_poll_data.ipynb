{
 "cells": [
  {
   "cell_type": "code",
   "execution_count": 12,
   "metadata": {},
   "outputs": [],
   "source": [
    "import pandas as pd\n",
    "from sqlalchemy import create_engine\n",
    "import os\n",
    "import shutil\n",
    "import yaml\n",
    "import re\n",
    "import html"
   ]
  },
  {
   "cell_type": "code",
   "execution_count": 13,
   "metadata": {},
   "outputs": [],
   "source": [
    "db = os.environ.get('PSQL_DATABASE')\n",
    "host = 'localhost'\n",
    "user ='user'\n",
    "port = '5432'\n",
    "psql_engine = f'postgresql://{user}:@{host}:{port}/{db}'"
   ]
  },
  {
   "cell_type": "code",
   "execution_count": 14,
   "metadata": {},
   "outputs": [],
   "source": [
    "with open(\"get_poll_list.sql\", \"r\") as f:\n",
    "    poll_list_slq = f.read()"
   ]
  },
  {
   "cell_type": "code",
   "execution_count": 15,
   "metadata": {},
   "outputs": [],
   "source": [
    "df = pd.read_sql(poll_list_slq, psql_engine)\n",
    "poll_list = {value['topic_id'] : {'question' : value['poll_title']} for index, value in df.T.to_dict().items()}"
   ]
  },
  {
   "cell_type": "code",
   "execution_count": 16,
   "metadata": {},
   "outputs": [],
   "source": [
    "with open(\"get_poll_results.sql\", \"r\") as f:\n",
    "    poll_results_template = f.read()"
   ]
  },
  {
   "cell_type": "code",
   "execution_count": 17,
   "metadata": {},
   "outputs": [],
   "source": [
    "for k in poll_list.keys():\n",
    "    poll_results_sql = poll_results_template.format(topic_id = k)\n",
    "    df = pd.read_sql(poll_results_sql, psql_engine)\n",
    "    poll_list[k]['answers'] =  [i for i in df.T.to_dict().values()]"
   ]
  },
  {
   "cell_type": "code",
   "execution_count": 18,
   "metadata": {},
   "outputs": [],
   "source": [
    "file_path = os.path.join('..', '_tests', '_data')\n",
    "with open(os.path.join(file_path, 'polls.yml'), 'w') as f:\n",
    "    f.write(yaml.dump(poll_list))"
   ]
  },
  {
   "cell_type": "code",
   "execution_count": null,
   "metadata": {},
   "outputs": [],
   "source": []
  }
 ],
 "metadata": {
  "kernelspec": {
   "display_name": "Python 3",
   "language": "python",
   "name": "python3"
  },
  "language_info": {
   "codemirror_mode": {
    "name": "ipython",
    "version": 3
   },
   "file_extension": ".py",
   "mimetype": "text/x-python",
   "name": "python",
   "nbconvert_exporter": "python",
   "pygments_lexer": "ipython3",
   "version": "3.10.12"
  }
 },
 "nbformat": 4,
 "nbformat_minor": 2
}
