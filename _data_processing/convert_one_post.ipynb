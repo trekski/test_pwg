{
 "cells": [
  {
   "cell_type": "code",
   "execution_count": 95,
   "metadata": {},
   "outputs": [],
   "source": [
    "import pandas as pd\n",
    "from sqlalchemy import create_engine\n",
    "import os\n",
    "import shutil\n",
    "import yaml\n",
    "import re"
   ]
  },
  {
   "cell_type": "code",
   "execution_count": 124,
   "metadata": {},
   "outputs": [],
   "source": [
    "def replace_simple_tags(txt, bb_uid):\n",
    "    tags = {\n",
    "        'u' : 'U',\n",
    "        'b' : 'STRONG',\n",
    "        'i' : 'EM',\n",
    "        's' : 'STRIKE',\n",
    "        'sup' : 'SUP',\n",
    "        'sub' : 'SUB',\n",
    "        'code' : 'PRE',\n",
    "        '*' : 'LI'\n",
    "    }\n",
    "    for t_before, t_after in  tags.items():\n",
    "\n",
    "        start_tag_before = f'[{t_before}:{bb_uid}]'\n",
    "        start_tag_after = f'<{t_after}>'\n",
    "        end_tag_before = f'[/{t_before}:{bb_uid}]'\n",
    "        end_tag_before_m = f'[/{t_before}:m:{bb_uid}]'\n",
    "        end_tag_before_u = f'[/{t_before}:u:{bb_uid}]'\n",
    "        end_tag_before_o = f'[/{t_before}:o:{bb_uid}]'\n",
    "        end_tag_after = f'</{t_after}>'\n",
    "        \n",
    "        txt = txt \\\n",
    "            .replace(start_tag_before, start_tag_after) \\\n",
    "            .replace(end_tag_before, end_tag_after) \\\n",
    "            .replace(end_tag_before_m, end_tag_after) \\\n",
    "            .replace(end_tag_before_u, end_tag_after) \\\n",
    "            .replace(end_tag_before_o, end_tag_after)\n",
    "            \n",
    "    return txt\n"
   ]
  },
  {
   "cell_type": "code",
   "execution_count": 215,
   "metadata": {},
   "outputs": [],
   "source": [
    "def replace_linebreaks(txt, bb_uid):\n",
    "    # first, remove excess lien breaks after selected end-tags\n",
    "    rep1 =  r'\\1' + f'[br:{bb_uid}]'\n",
    "    txt = re.sub(f'(\\[\\/(list|quote|code|\\*)(\\:(m|o|u))?\\:{bb_uid}\\])\\n', rep1, txt)\n",
    "    # then, change all other lien breaks to BRs\n",
    "    txt = re.sub('(?<!\\n)\\n(?!\\n)', '<br />\\n', txt)\n",
    "    txt = re.sub('(?<!\\n)\\n\\n+(?!\\n)', '<br />\\n<br />\\n', txt)\n",
    "    # then restore the linebreaks after selected tags for readability\n",
    "    txt = re.sub(f'\\[br\\:{bb_uid}]', '\\n', txt)\n",
    "    return txt\n"
   ]
  },
  {
   "cell_type": "code",
   "execution_count": 216,
   "metadata": {},
   "outputs": [
    {
     "name": "stdout",
     "output_type": "stream",
     "text": [
      "Drodzy Forumowicze i Forumowiczki!<br />\n",
      "<br />\n",
      "Były górki, były dołki, ale jak by na to nie patrzeć PWGay istnieje już od ponad 10 lat. I wyrażę chyba zdanie wszystkich osób zaangażowanych w jego tworzenie, jeżeli napiszę, że chcemy aby trwało i rozwijało się dalej.<br />\n",
      "<br />\n",
      "Na przestrzeni tych 10 lat już bardzo wiele osób pełniło funkcje administratorów i moderatorów forum – wielu z nich możecie już, szczególnie nowi użytkownicy, nie pamiętać. Obecna ekipa, mimo najszczerszych chęci też kiedyś odejdzie. Szczególnie, że PWG to forum studenckie, a żaden z obecnych modów i adminów już studentem nie jest.<br />\n",
      "<br />\n",
      "Dlatego też ogłaszamy wszem i wobec nabór na [b:1fhrcv7w]nowego administratora[/b:1fhrcv7w] PWGay.<br />\n",
      "<br />\n",
      "Nie jest to na pewno klasyczne ogłoszenie o pracę, ale pewne rozwiązania się jednak sprawdzają, także [i:1fhrcv7w]ad rem[/i:1fhrcv7w]:<br />\n",
      "<br />\n",
      "[size=150:1fhrcv7w][b:1fhrcv7w]Administrator PWGay[/b:1fhrcv7w][/size:1fhrcv7w]<br />\n",
      "<br />\n",
      "[u:1fhrcv7w]Zadania[/u:1fhrcv7w]:<br />\n",
      "[list:1fhrcv7w]<br />\n",
      "[*:1fhrcv7w]Bieżąca opieka nad Forum i Portalem PWG, w tym: administrowanie uprawnieniami użytkowników, rozwiązywanie problemów użytkowników z hasłami, logowaniem itp.,[/*:m:1fhrcv7w]\n",
      "[*:1fhrcv7w]Opieka nad kodem Forum i Portalu, w tym: backupowanie danych, utrzymywanie najnowszych wersji skryptów, wykrywanie i naprawa usterek,[/*:m:1fhrcv7w]\n",
      "[*:1fhrcv7w]Utrzymanie programistyczne Portalu – poprzez reagowanie na potrzeby użytkowników i odpowiednie modyfikacje kodu w razie potrzeb, zarządzanie strukturą wątków na forum[/*:m:1fhrcv7w]\n",
      "[*:1fhrcv7w]Wspieranie i monitorowanie prac moderatorów – np. moderacja wątków[/*:m:1fhrcv7w][/list:u:1fhrcv7w]\n",
      "<br />\n",
      "[u:1fhrcv7w]Zapewniamy[/u:1fhrcv7w]:<br />\n",
      "[list:1fhrcv7w]<br />\n",
      "[*:1fhrcv7w]Satysfakcję z opieki nad pierwszym w skali kraju studenckim forum GLBTQ dla studentów Politechniki Warszawskiej i nie tylko.[/*:m:1fhrcv7w]\n",
      "[*:1fhrcv7w]Możliwość rozwoju swoich umiejętności[/*:m:1fhrcv7w]\n",
      "[*:1fhrcv7w]Nie ukrywajmy: taka funkcja to ambitne hobby, ale zapłacić za nie nie możemy. Za to chętnie zabierzemy nowego admina na piwo <!-- s;) --><img src=\"{SMILIES_PATH}/icon_wink.gif\" alt=\";)\" title=\"Wink\" /><!-- s;) -->[/*:m:1fhrcv7w]\n",
      "[*:1fhrcv7w]Możliwość aktywnego współtworzenia Forum i Portalu i rozwijania ich funkcjonalności[/*:m:1fhrcv7w]\n",
      "[*:1fhrcv7w]Wszelką pomoc merytoryczną, jaką tylko będziemy w stanie dać.[/*:m:1fhrcv7w]\n",
      "[*:1fhrcv7w]A jak się okazja nadarzy to i w gazecie lub radiu się możecie pojawić <!-- s;) --><img src=\"{SMILIES_PATH}/icon_wink.gif\" alt=\";)\" title=\"Wink\" /><!-- s;) -->[/*:m:1fhrcv7w][/list:u:1fhrcv7w]\n",
      "<br />\n",
      "[u:1fhrcv7w]Od idealnego kandydata/kandydatki oczekujemy[/u:1fhrcv7w]:<br />\n",
      "[list:1fhrcv7w]<br />\n",
      "[*:1fhrcv7w]Posiadania indeksu Politechniki Warszawskiej i zaliczonego co najmniej drugiego semestru studiów[/*:m:1fhrcv7w]\n",
      "[*:1fhrcv7w]Entuzjazmu i zaangażowania w swoją pracę[/*:m:1fhrcv7w]\n",
      "[*:1fhrcv7w]Czasu prywatnego który będzie mógł/mogła i chciał/chciała poświęcić na opiekę nad Portalem[/*:m:1fhrcv7w]\n",
      "[*:1fhrcv7w]Odpowiednich umiejętności programistycznych (PHP, MySQL, PostgreSQL)[/*:m:1fhrcv7w]\n",
      "[*:1fhrcv7w]Wytrwałości w podjętych zobowiązaniach[/*:m:1fhrcv7w]\n",
      "[*:1fhrcv7w]Odpowiednio długiego stażu na Forum (najlepiej ponad pół roku) PWG i znaczącej aktywności tamże (powyżej średniej),[/*:m:1fhrcv7w]\n",
      "[*:1fhrcv7w]Mile widziane doświadczenie w moderowaniu lub administrowaniu forum internetowym opartym na silniku phpBB[/*:m:1fhrcv7w]\n",
      "[*:1fhrcv7w]Mile widziana znajomość Wordpress'a[/*:m:1fhrcv7w][/list:u:1fhrcv7w]\n",
      "<br />\n",
      "[u:1fhrcv7w]Jak się zgłaszać[/u:1fhrcv7w]:<br />\n",
      "Wysyłając wypełniony [url=https&#58;//docs&#46;google&#46;com/document/d/14sZXDwWnhXtwVMHi_6KH8SQliE2XJgE6zYYqvxlKS6o/edit?hl=pl&amp;authkey=CILJsIQP:1fhrcv7w]formularz zgłoszeniowy[/url:1fhrcv7w] na adres <!-- e --><a href=\"mailto:pwgay@pwgay.org\">pwgay@pwgay.org</a><!-- e --><br />\n",
      "Formularze można wysyłać do [b:1fhrcv7w]15 marca 201[/b:1fhrcv7w]1. Formularze wysłane z adresów innych niż podane przy rejestracji na Forum nie będą uwzględniane.<br />\n",
      "<br />\n",
      "[u:1fhrcv7w]Co dalej?[/u:1fhrcv7w]<br />\n",
      "Każdego powiadomimy o wyniku.<br />\n",
      "Po przejrzeniu zgłoszeń przez zespół złożony z poprzednich i obecnych administratorów i moderatorów PWG spotkamy się z wybranymi osobami żeby je lepiej poznać. <br />\n",
      "Osoba, którą wybierzemy po spotkaniu dostanie ograniczony dostęp do funkcji administracyjnych Forum oraz zadania praktyczne do wykonania – będzie to swoisty okres próbny. Po pomyślnym zakończeniu okresu próbnego dostanie wszelkie uprawnienia niezbędne do administracji forum.\n"
     ]
    }
   ],
   "source": [
    "print(replace_linebreaks(post_text, post_uid))"
   ]
  },
  {
   "cell_type": "code",
   "execution_count": 158,
   "metadata": {},
   "outputs": [],
   "source": [
    "def replace_quotes(txt, bb_uid):\n",
    "\n",
    "    txt = re.sub(\n",
    "        f'\\[quote\\=([^\\:]+)\\:{bb_uid}\\]',\n",
    "        r'<blockquote><p>\\n»\\1« pisze:<br />\\n',\n",
    "        txt\n",
    "    )\n",
    "\n",
    "    txt = re.sub(\n",
    "        f'\\[quote\\:{uid}\\]',\n",
    "        r'<blockquote><p>\\ncytat:<br />\\n',\n",
    "        txt\n",
    "    )\n",
    "\n",
    "    txt = re.sub(\n",
    "        f'\\[\\/quote(\\:(o|u|m))?\\:{uid}\\]',\n",
    "        '\\n</p></blockquote>',\n",
    "        txt\n",
    "    )\n",
    "\n",
    "    return txt\n",
    "    "
   ]
  },
  {
   "cell_type": "code",
   "execution_count": 44,
   "metadata": {},
   "outputs": [],
   "source": [
    "db = os.environ.get('PSQL_DATABASE')\n",
    "host = 'localhost'\n",
    "user ='user'\n",
    "port = '5432'\n",
    "psql_engine = f'postgresql://{user}:@{host}:{port}/{db}'"
   ]
  },
  {
   "cell_type": "code",
   "execution_count": 45,
   "metadata": {},
   "outputs": [],
   "source": [
    "with open(\"get_single_post.sql\", \"r\") as f:\n",
    "    sql_template = f.readlines()"
   ]
  },
  {
   "cell_type": "code",
   "execution_count": 102,
   "metadata": {},
   "outputs": [],
   "source": [
    "post_id = 39034\n",
    "post_id = 34524\n",
    "slq_statement = ''.join(sql_template).format(post_id = post_id)\n",
    "df = pd.read_sql(slq_statement, psql_engine)\n",
    "post_content = df.loc[0].to_dict()"
   ]
  },
  {
   "cell_type": "code",
   "execution_count": 103,
   "metadata": {},
   "outputs": [],
   "source": [
    "post_meta = {k : v for k, v in post_content.items() if k not in ['post_text', 'bbcode_uid']}\n",
    "post_text = post_content['post_text']\n",
    "post_uid = post_content['bbcode_uid']"
   ]
  },
  {
   "cell_type": "code",
   "execution_count": 169,
   "metadata": {},
   "outputs": [
    {
     "name": "stdout",
     "output_type": "stream",
     "text": [
      "Drodzy Forumowicze i Forumowiczki!\n",
      "\n",
      "Były górki, były dołki, ale jak by na to nie patrzeć PWGay istnieje już od ponad 10 lat. I wyrażę chyba zdanie wszystkich osób zaangażowanych w jego tworzenie, jeżeli napiszę, że chcemy aby trwało i rozwijało się dalej.\n",
      "\n",
      "Na przestrzeni tych 10 lat już bardzo wiele osób pełniło funkcje administratorów i moderatorów forum – wielu z nich możecie już, szczególnie nowi użytkownicy, nie pamiętać. Obecna ekipa, mimo najszczerszych chęci też kiedyś odejdzie. Szczególnie, że PWG to forum studenckie, a żaden z obecnych modów i adminów już studentem nie jest.\n",
      "\n",
      "Dlatego też ogłaszamy wszem i wobec nabór na [b:1fhrcv7w]nowego administratora[/b:1fhrcv7w] PWGay.\n",
      "\n",
      "Nie jest to na pewno klasyczne ogłoszenie o pracę, ale pewne rozwiązania się jednak sprawdzają, także [i:1fhrcv7w]ad rem[/i:1fhrcv7w]:\n",
      "\n",
      "[size=150:1fhrcv7w][b:1fhrcv7w]Administrator PWGay[/b:1fhrcv7w][/size:1fhrcv7w]\n",
      "\n",
      "[u:1fhrcv7w]Zadania[/u:1fhrcv7w]:\n",
      "[list:1fhrcv7w]\n",
      "[*:1fhrcv7w]Bieżąca opieka nad Forum i Portalem PWG, w tym: administrowanie uprawnieniami użytkowników, rozwiązywanie problemów użytkowników z hasłami, logowaniem itp.,[/*:m:1fhrcv7w]\n",
      "[*:1fhrcv7w]Opieka nad kodem Forum i Portalu, w tym: backupowanie danych, utrzymywanie najnowszych wersji skryptów, wykrywanie i naprawa usterek,[/*:m:1fhrcv7w]\n",
      "[*:1fhrcv7w]Utrzymanie programistyczne Portalu – poprzez reagowanie na potrzeby użytkowników i odpowiednie modyfikacje kodu w razie potrzeb, zarządzanie strukturą wątków na forum[/*:m:1fhrcv7w]\n",
      "[*:1fhrcv7w]Wspieranie i monitorowanie prac moderatorów – np. moderacja wątków[/*:m:1fhrcv7w][/list:u:1fhrcv7w]\n",
      "\n",
      "[u:1fhrcv7w]Zapewniamy[/u:1fhrcv7w]:\n",
      "[list:1fhrcv7w]\n",
      "[*:1fhrcv7w]Satysfakcję z opieki nad pierwszym w skali kraju studenckim forum GLBTQ dla studentów Politechniki Warszawskiej i nie tylko.[/*:m:1fhrcv7w]\n",
      "[*:1fhrcv7w]Możliwość rozwoju swoich umiejętności[/*:m:1fhrcv7w]\n",
      "[*:1fhrcv7w]Nie ukrywajmy: taka funkcja to ambitne hobby, ale zapłacić za nie nie możemy. Za to chętnie zabierzemy nowego admina na piwo <!-- s;) --><img src=\"{SMILIES_PATH}/icon_wink.gif\" alt=\";)\" title=\"Wink\" /><!-- s;) -->[/*:m:1fhrcv7w]\n",
      "[*:1fhrcv7w]Możliwość aktywnego współtworzenia Forum i Portalu i rozwijania ich funkcjonalności[/*:m:1fhrcv7w]\n",
      "[*:1fhrcv7w]Wszelką pomoc merytoryczną, jaką tylko będziemy w stanie dać.[/*:m:1fhrcv7w]\n",
      "[*:1fhrcv7w]A jak się okazja nadarzy to i w gazecie lub radiu się możecie pojawić <!-- s;) --><img src=\"{SMILIES_PATH}/icon_wink.gif\" alt=\";)\" title=\"Wink\" /><!-- s;) -->[/*:m:1fhrcv7w][/list:u:1fhrcv7w]\n",
      "\n",
      "[u:1fhrcv7w]Od idealnego kandydata/kandydatki oczekujemy[/u:1fhrcv7w]:\n",
      "[list:1fhrcv7w]\n",
      "[*:1fhrcv7w]Posiadania indeksu Politechniki Warszawskiej i zaliczonego co najmniej drugiego semestru studiów[/*:m:1fhrcv7w]\n",
      "[*:1fhrcv7w]Entuzjazmu i zaangażowania w swoją pracę[/*:m:1fhrcv7w]\n",
      "[*:1fhrcv7w]Czasu prywatnego który będzie mógł/mogła i chciał/chciała poświęcić na opiekę nad Portalem[/*:m:1fhrcv7w]\n",
      "[*:1fhrcv7w]Odpowiednich umiejętności programistycznych (PHP, MySQL, PostgreSQL)[/*:m:1fhrcv7w]\n",
      "[*:1fhrcv7w]Wytrwałości w podjętych zobowiązaniach[/*:m:1fhrcv7w]\n",
      "[*:1fhrcv7w]Odpowiednio długiego stażu na Forum (najlepiej ponad pół roku) PWG i znaczącej aktywności tamże (powyżej średniej),[/*:m:1fhrcv7w]\n",
      "[*:1fhrcv7w]Mile widziane doświadczenie w moderowaniu lub administrowaniu forum internetowym opartym na silniku phpBB[/*:m:1fhrcv7w]\n",
      "[*:1fhrcv7w]Mile widziana znajomość Wordpress'a[/*:m:1fhrcv7w][/list:u:1fhrcv7w]\n",
      "\n",
      "[u:1fhrcv7w]Jak się zgłaszać[/u:1fhrcv7w]:\n",
      "Wysyłając wypełniony [url=https&#58;//docs&#46;google&#46;com/document/d/14sZXDwWnhXtwVMHi_6KH8SQliE2XJgE6zYYqvxlKS6o/edit?hl=pl&amp;authkey=CILJsIQP:1fhrcv7w]formularz zgłoszeniowy[/url:1fhrcv7w] na adres <!-- e --><a href=\"mailto:pwgay@pwgay.org\">pwgay@pwgay.org</a><!-- e -->\n",
      "Formularze można wysyłać do [b:1fhrcv7w]15 marca 201[/b:1fhrcv7w]1. Formularze wysłane z adresów innych niż podane przy rejestracji na Forum nie będą uwzględniane.\n",
      "\n",
      "[u:1fhrcv7w]Co dalej?[/u:1fhrcv7w]\n",
      "Każdego powiadomimy o wyniku.\n",
      "Po przejrzeniu zgłoszeń przez zespół złożony z poprzednich i obecnych administratorów i moderatorów PWG spotkamy się z wybranymi osobami żeby je lepiej poznać. \n",
      "Osoba, którą wybierzemy po spotkaniu dostanie ograniczony dostęp do funkcji administracyjnych Forum oraz zadania praktyczne do wykonania – będzie to swoisty okres próbny. Po pomyślnym zakończeniu okresu próbnego dostanie wszelkie uprawnienia niezbędne do administracji forum.\n"
     ]
    }
   ],
   "source": [
    "print(post_text)"
   ]
  },
  {
   "cell_type": "code",
   "execution_count": 168,
   "metadata": {},
   "outputs": [
    {
     "name": "stdout",
     "output_type": "stream",
     "text": [
      "Drodzy Forumowicze i Forumowiczki!<br />\n",
      "<br />\n",
      "Były górki, były dołki, ale jak by na to nie patrzeć PWGay istnieje już od ponad 10 lat. I wyrażę chyba zdanie wszystkich osób zaangażowanych w jego tworzenie, jeżeli napiszę, że chcemy aby trwało i rozwijało się dalej.<br />\n",
      "<br />\n",
      "Na przestrzeni tych 10 lat już bardzo wiele osób pełniło funkcje administratorów i moderatorów forum – wielu z nich możecie już, szczególnie nowi użytkownicy, nie pamiętać. Obecna ekipa, mimo najszczerszych chęci też kiedyś odejdzie. Szczególnie, że PWG to forum studenckie, a żaden z obecnych modów i adminów już studentem nie jest.<br />\n",
      "<br />\n",
      "Dlatego też ogłaszamy wszem i wobec nabór na <STRONG>nowego administratora</STRONG> PWGay.<br />\n",
      "<br />\n",
      "Nie jest to na pewno klasyczne ogłoszenie o pracę, ale pewne rozwiązania się jednak sprawdzają, także <EM>ad rem</EM>:<br />\n",
      "<br />\n",
      "[size=150:1fhrcv7w]<STRONG>Administrator PWGay</STRONG>[/size:1fhrcv7w]<br />\n",
      "<br />\n",
      "<U>Zadania</U>:\n",
      "[list:1fhrcv7w]\n",
      "<LI>Bieżąca opieka nad Forum i Portalem PWG, w tym: administrowanie uprawnieniami użytkowników, rozwiązywanie problemów użytkowników z hasłami, logowaniem itp.,</LI>\n",
      "<LI>Opieka nad kodem Forum i Portalu, w tym: backupowanie danych, utrzymywanie najnowszych wersji skryptów, wykrywanie i naprawa usterek,</LI>\n",
      "<LI>Utrzymanie programistyczne Portalu – poprzez reagowanie na potrzeby użytkowników i odpowiednie modyfikacje kodu w razie potrzeb, zarządzanie strukturą wątków na forum</LI>\n",
      "<LI>Wspieranie i monitorowanie prac moderatorów – np. moderacja wątków</LI>[/list:u:1fhrcv7w]<br />\n",
      "<br />\n",
      "<U>Zapewniamy</U>:\n",
      "[list:1fhrcv7w]\n",
      "<LI>Satysfakcję z opieki nad pierwszym w skali kraju studenckim forum GLBTQ dla studentów Politechniki Warszawskiej i nie tylko.</LI>\n",
      "<LI>Możliwość rozwoju swoich umiejętności</LI>\n",
      "<LI>Nie ukrywajmy: taka funkcja to ambitne hobby, ale zapłacić za nie nie możemy. Za to chętnie zabierzemy nowego admina na piwo <!-- s;) --><img src=\"{SMILIES_PATH}/icon_wink.gif\" alt=\";)\" title=\"Wink\" /><!-- s;) --></LI>\n",
      "<LI>Możliwość aktywnego współtworzenia Forum i Portalu i rozwijania ich funkcjonalności</LI>\n",
      "<LI>Wszelką pomoc merytoryczną, jaką tylko będziemy w stanie dać.</LI>\n",
      "<LI>A jak się okazja nadarzy to i w gazecie lub radiu się możecie pojawić <!-- s;) --><img src=\"{SMILIES_PATH}/icon_wink.gif\" alt=\";)\" title=\"Wink\" /><!-- s;) --></LI>[/list:u:1fhrcv7w]<br />\n",
      "<br />\n",
      "<U>Od idealnego kandydata/kandydatki oczekujemy</U>:\n",
      "[list:1fhrcv7w]\n",
      "<LI>Posiadania indeksu Politechniki Warszawskiej i zaliczonego co najmniej drugiego semestru studiów</LI>\n",
      "<LI>Entuzjazmu i zaangażowania w swoją pracę</LI>\n",
      "<LI>Czasu prywatnego który będzie mógł/mogła i chciał/chciała poświęcić na opiekę nad Portalem</LI>\n",
      "<LI>Odpowiednich umiejętności programistycznych (PHP, MySQL, PostgreSQL)</LI>\n",
      "<LI>Wytrwałości w podjętych zobowiązaniach</LI>\n",
      "<LI>Odpowiednio długiego stażu na Forum (najlepiej ponad pół roku) PWG i znaczącej aktywności tamże (powyżej średniej),</LI>\n",
      "<LI>Mile widziane doświadczenie w moderowaniu lub administrowaniu forum internetowym opartym na silniku phpBB</LI>\n",
      "<LI>Mile widziana znajomość Wordpress'a</LI>[/list:u:1fhrcv7w]<br />\n",
      "<br />\n",
      "<U>Jak się zgłaszać</U>:\n",
      "Wysyłając wypełniony [url=https&#58;//docs&#46;google&#46;com/document/d/14sZXDwWnhXtwVMHi_6KH8SQliE2XJgE6zYYqvxlKS6o/edit?hl=pl&amp;authkey=CILJsIQP:1fhrcv7w]formularz zgłoszeniowy[/url:1fhrcv7w] na adres <!-- e --><a href=\"mailto:pwgay@pwgay.org\">pwgay@pwgay.org</a><!-- e -->\n",
      "Formularze można wysyłać do <STRONG>15 marca 201</STRONG>1. Formularze wysłane z adresów innych niż podane przy rejestracji na Forum nie będą uwzględniane.<br />\n",
      "<br />\n",
      "<U>Co dalej?</U>\n",
      "Każdego powiadomimy o wyniku.\n",
      "Po przejrzeniu zgłoszeń przez zespół złożony z poprzednich i obecnych administratorów i moderatorów PWG spotkamy się z wybranymi osobami żeby je lepiej poznać. \n",
      "Osoba, którą wybierzemy po spotkaniu dostanie ograniczony dostęp do funkcji administracyjnych Forum oraz zadania praktyczne do wykonania – będzie to swoisty okres próbny. Po pomyślnym zakończeniu okresu próbnego dostanie wszelkie uprawnienia niezbędne do administracji forum.\n"
     ]
    }
   ],
   "source": [
    "final_text = replace_linebreaks(post_text, post_uid)\n",
    "final_text = replace_simple_tags(final_text, post_uid)\n",
    "final_text = replace_quotes(final_text, post_uid)\n",
    "print(final_text)"
   ]
  },
  {
   "cell_type": "code",
   "execution_count": null,
   "metadata": {},
   "outputs": [],
   "source": []
  }
 ],
 "metadata": {
  "kernelspec": {
   "display_name": "Python 3",
   "language": "python",
   "name": "python3"
  },
  "language_info": {
   "codemirror_mode": {
    "name": "ipython",
    "version": 3
   },
   "file_extension": ".py",
   "mimetype": "text/x-python",
   "name": "python",
   "nbconvert_exporter": "python",
   "pygments_lexer": "ipython3",
   "version": "3.10.12"
  }
 },
 "nbformat": 4,
 "nbformat_minor": 2
}
