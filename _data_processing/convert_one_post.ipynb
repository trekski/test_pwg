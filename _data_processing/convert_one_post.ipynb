{
 "cells": [
  {
   "cell_type": "code",
   "execution_count": 126,
   "metadata": {},
   "outputs": [],
   "source": [
    "import pandas as pd\n",
    "from sqlalchemy import create_engine\n",
    "import os\n",
    "import shutil\n",
    "import yaml\n",
    "import re\n",
    "import html\n",
    "import urllib"
   ]
  },
  {
   "cell_type": "code",
   "execution_count": 2,
   "metadata": {},
   "outputs": [],
   "source": [
    "with open('topic_links.yml', 'r') as f:\n",
    "    topic_pagination = yaml.load(f.read(), Loader=yaml.FullLoader)\n",
    "\n",
    "with open('post_links.yml', 'r') as f:\n",
    "    post_pagination = yaml.load(f.read(), Loader=yaml.FullLoader)\n"
   ]
  },
  {
   "cell_type": "code",
   "execution_count": 3,
   "metadata": {},
   "outputs": [],
   "source": [
    "def replace_simple_tags(txt, bb_uid):\n",
    "    tags = {\n",
    "        'u' : 'U',\n",
    "        'b' : 'STRONG',\n",
    "        'i' : 'EM',\n",
    "        's' : 'STRIKE',\n",
    "        'sup' : 'SUP',\n",
    "        'sub' : 'SUB',\n",
    "        'code' : 'PRE',\n",
    "        '*' : 'LI'\n",
    "    }\n",
    "    for t_before, t_after in  tags.items():\n",
    "\n",
    "        start_tag_before = f'[{t_before}:{bb_uid}]'\n",
    "        start_tag_after = f'<{t_after}>'\n",
    "        end_tag_before = f'[/{t_before}:{bb_uid}]'\n",
    "        end_tag_before_m = f'[/{t_before}:m:{bb_uid}]'\n",
    "        end_tag_before_u = f'[/{t_before}:u:{bb_uid}]'\n",
    "        end_tag_before_o = f'[/{t_before}:o:{bb_uid}]'\n",
    "        end_tag_after = f'</{t_after}>'\n",
    "        \n",
    "        txt = txt \\\n",
    "            .replace(start_tag_before, start_tag_after) \\\n",
    "            .replace(end_tag_before, end_tag_after) \\\n",
    "            .replace(end_tag_before_m, end_tag_after) \\\n",
    "            .replace(end_tag_before_u, end_tag_after) \\\n",
    "            .replace(end_tag_before_o, end_tag_after)\n",
    "            \n",
    "    return txt\n"
   ]
  },
  {
   "cell_type": "code",
   "execution_count": 4,
   "metadata": {},
   "outputs": [],
   "source": [
    "def replace_linebreaks(txt, bb_uid):\n",
    "    # first, remove excess lien breaks after selected end-tags\n",
    "    rep1 =  r'\\1' + f'[br:{bb_uid}]'\n",
    "    txt = re.sub(f'(\\[\\/(list|quote|code|\\*)(\\:(m|o|u))?\\:{bb_uid}\\])\\n', rep1, txt)\n",
    "    # ... and after selected start tags\n",
    "    txt = re.sub(f'(\\[(list|quote|code|\\*)(=[^\\:]+)?\\:{bb_uid}\\])\\n', rep1, txt)\n",
    "    # then, change all other lien breaks to BRs\n",
    "    txt = re.sub('(?<!\\n)\\n(?!\\n)', '<BR />\\n', txt)\n",
    "    txt = re.sub('(?<!\\n)\\n\\n+(?!\\n)', '<BR />\\n<BR />\\n', txt)\n",
    "    # then restore the linebreaks after selected tags for readability\n",
    "    txt = re.sub(f'\\[br\\:{bb_uid}]', '\\n', txt)\n",
    "    return txt\n"
   ]
  },
  {
   "cell_type": "code",
   "execution_count": 81,
   "metadata": {},
   "outputs": [],
   "source": [
    "def replace_quotes(txt, bb_uid):\n",
    "\n",
    "    txt = re.sub(\n",
    "        f'\\[quote\\=(?:\\&quot\\;)([^\\&]+)(?:\\&quot\\;):{bb_uid}\\]',\n",
    "        r'<BLOCKQUOTE><P>\\n»\\1« pisze:<BR />\\n',\n",
    "        txt\n",
    "    )\n",
    "\n",
    "    txt = re.sub(\n",
    "        f'\\[quote\\:{bb_uid}\\]',\n",
    "        r'<BLOCKQUOTE><P>\\ncytat:<BR />\\n',\n",
    "        txt\n",
    "    )\n",
    "\n",
    "    txt = re.sub(\n",
    "        f'\\[\\/quote(\\:(o|u|m))?\\:{bb_uid}\\]',\n",
    "        '\\n</P></BLOCKQUOTE>',\n",
    "        txt\n",
    "    )\n",
    "\n",
    "    return txt\n",
    "    "
   ]
  },
  {
   "cell_type": "code",
   "execution_count": 18,
   "metadata": {},
   "outputs": [],
   "source": [
    "def replace_lists(txt, bb_uid):\n",
    "    txt = re.sub(\n",
    "        f'\\[list\\=(.)\\:{bb_uid}\\]',\n",
    "        r'<OL type=\"\\1\">',\n",
    "        txt\n",
    "    )\n",
    "    txt = re.sub(\n",
    "        f'\\[list\\:{bb_uid}\\]',\n",
    "        r'<UL>',\n",
    "        txt\n",
    "    )\n",
    "    txt = re.sub(\n",
    "        f'\\[\\/list\\:o\\:{bb_uid}\\]',\n",
    "        r'</OL>',\n",
    "        txt\n",
    "    )\n",
    "    txt = re.sub(\n",
    "        f'\\[\\/list\\:u\\:{bb_uid}\\]',\n",
    "        r'</UL>',\n",
    "        txt\n",
    "    )\n",
    "\n",
    "    return txt\n",
    "\n",
    "# test post for UL 34524\n",
    "# test post for OL \n",
    "# mixed lists 23789, 31042  , 21737\n"
   ]
  },
  {
   "cell_type": "code",
   "execution_count": 65,
   "metadata": {},
   "outputs": [],
   "source": [
    "def translate_url(url):\n",
    "\n",
    "    new_url = url\n",
    "\n",
    "    known_hosts = [\n",
    "        'http://pwgay.org/forum/',\n",
    "        'http://pwgay.7z9.net/forum/'\n",
    "    ]\n",
    "    m = 0\n",
    "    for host_pattern in known_hosts:\n",
    "        m += len(re.findall(host_pattern, url))\n",
    "\n",
    "    if m >0 :\n",
    "\n",
    "        param_pattern = '[a-zA-Z]+\\=[0-9a-zA-Z]+'\n",
    "        params = re.search(\n",
    "            f'(?:viewtopic|vievforum).php\\?((?:{param_pattern})(?:\\&{param_pattern})*)',\n",
    "            url\n",
    "        )\n",
    "        \n",
    "        if params != None:\n",
    "\n",
    "            param_arr = params.group(1).split('&')\n",
    "            param_dict = { p.split('=')[0] : p.split('=')[1] for p in param_arr}\n",
    "\n",
    "            post_id = param_dict.get('p')\n",
    "            topic_id = param_dict.get('t')\n",
    "            forum_id = param_dict.get('f')\n",
    "            \n",
    "            if post_id != None:\n",
    "\n",
    "                link_params = post_pagination.get(int(post_id))\n",
    "                thread_num = link_params['t']\n",
    "                page_num = link_params['p']\n",
    "                if page_num == 1:\n",
    "                    new_url = f'/threads/{thread_num}/index.html#{post_id}'\n",
    "                else:\n",
    "                    new_url = f'/threads/{thread_num}/page_{page_num}.html#{post_id}'\n",
    "\n",
    "            elif topic_id != None:\n",
    "\n",
    "                new_url = f'/threads/{topic_id}/index.html'\n",
    "\n",
    "            elif forum_id != None:\n",
    "\n",
    "                new_url = f'/forums/{forum_id}/index.html'\n",
    "    \n",
    "    return new_url\n"
   ]
  },
  {
   "cell_type": "code",
   "execution_count": 38,
   "metadata": {},
   "outputs": [],
   "source": [
    "def url_tag(url, make_tag='none'):\n",
    "    url = html.unescape(url)\n",
    "    url = translate_url(url)\n",
    "    if make_tag == 'full':\n",
    "        url = f'<A href=\"{url}\">{url}</A>'\n",
    "    if make_tag == 'start':\n",
    "        url = f'<A href=\"{url}\">'\n",
    "    return url"
   ]
  },
  {
   "cell_type": "code",
   "execution_count": 39,
   "metadata": {},
   "outputs": [],
   "source": [
    "def replace_url(txt, bb_uid):\n",
    "    \n",
    "    # simple URL\n",
    "    txt = re.split(\n",
    "       f'\\[url\\:{bb_uid}\\]([^\\[]+)\\[\\/url\\:{bb_uid}\\]',\n",
    "       txt\n",
    "    )\n",
    "    txt = [ item if index%2 == 0 else url_tag(item, make_tag='full') for index, item in enumerate(txt)]\n",
    "    txt = ''.join(txt)\n",
    "\n",
    "    # complex URL\n",
    "    open_tag = f'\\[url\\=([^\\:]+)\\:{bb_uid}\\]'\n",
    "    close_tag = f'\\[\\/url\\:{bb_uid}\\]'\n",
    "    txt = re.split(\n",
    "        open_tag,\n",
    "        txt\n",
    "    )\n",
    "    txt = [ item if index%2 == 0 else url_tag(item, make_tag='start') for index, item in enumerate(txt)]\n",
    "    txt = ''.join(txt)\n",
    "    txt = re.sub(\n",
    "        close_tag,\n",
    "        '</A>',\n",
    "        txt\n",
    "    )\n",
    "\n",
    "    return txt"
   ]
  },
  {
   "cell_type": "code",
   "execution_count": 113,
   "metadata": {},
   "outputs": [],
   "source": [
    "def replace_size(txt, bb_uid):\n",
    "    pattern_start = f'\\[size=([0-9]+)\\:{post_uid}]'\n",
    "    pattern_end = f'\\[\\/size\\:{bb_uid}]'\n",
    "    txt = re.sub(\n",
    "        pattern_start,\n",
    "        r'<SPAN style=\"font-size:\\1%\">',\n",
    "        txt\n",
    "    )\n",
    "    txt = re.sub(\n",
    "        pattern_end,\n",
    "        r'</SPAN>',\n",
    "        txt\n",
    "    )\n",
    "    return txt\n",
    "    "
   ]
  },
  {
   "cell_type": "code",
   "execution_count": 116,
   "metadata": {},
   "outputs": [],
   "source": [
    "def repalce_color(txt, bb_uid):\n",
    "    pattern_start = f'\\[color=([\\#a-zA-Z0-9]+)\\:{bb_uid}\\]'\n",
    "    pattern_end = f'\\[\\/color\\:{bb_uid}]'\n",
    "    txt = re.sub(\n",
    "        pattern_start,\n",
    "        r'<SPAN style=\"color:\\1\">',\n",
    "        txt\n",
    "    )\n",
    "    txt = re.sub(\n",
    "        pattern_end,\n",
    "        r'</SPAN>',\n",
    "        txt\n",
    "    )\n",
    "    return txt"
   ]
  },
  {
   "cell_type": "code",
   "execution_count": 145,
   "metadata": {},
   "outputs": [],
   "source": [
    "def img_tag(url):\n",
    "\n",
    "    url = html.unescape(url)\n",
    "    url_url = urllib.parse.quote(url)\n",
    "    tag =f'''<P class=\"image_holder\">\n",
    "    <IMG src=\"{url}\" />\n",
    "    <A href=\"https://archive.org/search?query={url_url}\">{url}</A>\n",
    "    </P>'''\n",
    "    return tag\n"
   ]
  },
  {
   "cell_type": "code",
   "execution_count": 146,
   "metadata": {},
   "outputs": [],
   "source": [
    "def replace_img(txt, bb_uid):\n",
    "   \n",
    "    txt = re.split(\n",
    "       f'\\[img\\:{bb_uid}\\]([^\\[]+)\\[\\/img\\:{bb_uid}\\]',\n",
    "       txt\n",
    "    )\n",
    "    txt = [ item if index%2 == 0 else img_tag(item) for index, item in enumerate(txt)]\n",
    "    txt = ''.join(txt)\n",
    "\n",
    "    return txt"
   ]
  },
  {
   "cell_type": "code",
   "execution_count": 10,
   "metadata": {},
   "outputs": [],
   "source": [
    "db = os.environ.get('PSQL_DATABASE')\n",
    "host = 'localhost'\n",
    "user ='user'\n",
    "port = '5432'\n",
    "psql_engine = f'postgresql://{user}:@{host}:{port}/{db}'"
   ]
  },
  {
   "cell_type": "code",
   "execution_count": 11,
   "metadata": {},
   "outputs": [],
   "source": [
    "with open(\"get_single_post.sql\", \"r\") as f:\n",
    "    sql_template = f.readlines()"
   ]
  },
  {
   "cell_type": "code",
   "execution_count": 121,
   "metadata": {},
   "outputs": [],
   "source": [
    "post_id = 37726\n",
    "slq_statement = ''.join(sql_template).format(post_id = post_id)\n",
    "df = pd.read_sql(slq_statement, psql_engine)\n",
    "post_content = df.loc[0].to_dict()"
   ]
  },
  {
   "cell_type": "code",
   "execution_count": 122,
   "metadata": {},
   "outputs": [],
   "source": [
    "post_meta = {k : v for k, v in post_content.items() if k not in ['post_text', 'bbcode_uid']}\n",
    "post_text = post_content['post_text']\n",
    "post_uid = post_content['bbcode_uid']"
   ]
  },
  {
   "cell_type": "code",
   "execution_count": 123,
   "metadata": {},
   "outputs": [
    {
     "name": "stdout",
     "output_type": "stream",
     "text": [
      "[quote=&quot;Surion&quot;:1oxx7fpc][quote=&quot;7z9&quot;:1oxx7fpc][quote=&quot;Solaris&quot;:1oxx7fpc]To jest autentycznie genialny pomysł![/quote:1oxx7fpc]\n",
      "masz na myśli zagładę Suriona?[/quote:1oxx7fpc]\n",
      "Myślę jednak, że internet tak szybko nie zniknie. :&gt;[/quote:1oxx7fpc]\n",
      "[i:1oxx7fpc]A jak zniknie? *[/i:1oxx7fpc]\n",
      "[img:1oxx7fpc]http&#58;//imgs&#46;xkcd&#46;com/comics/the_cloud&#46;png[/img:1oxx7fpc]\n",
      "*[size=85:1oxx7fpc]There's planned downtime every night when we turn on the Roomba and it runs over the cord.[/size:1oxx7fpc]\n"
     ]
    }
   ],
   "source": [
    "print(post_text)"
   ]
  },
  {
   "cell_type": "code",
   "execution_count": 148,
   "metadata": {},
   "outputs": [
    {
     "name": "stdout",
     "output_type": "stream",
     "text": [
      "<BLOCKQUOTE><P>\n",
      "»Surion« pisze:<BR />\n",
      "<BLOCKQUOTE><P>\n",
      "»7z9« pisze:<BR />\n",
      "<BLOCKQUOTE><P>\n",
      "»Solaris« pisze:<BR />\n",
      "To jest autentycznie genialny pomysł!\n",
      "</P></BLOCKQUOTE>\n",
      "masz na myśli zagładę Suriona?\n",
      "</P></BLOCKQUOTE>\n",
      "Myślę jednak, że internet tak szybko nie zniknie. :&gt;\n",
      "</P></BLOCKQUOTE>\n",
      "<EM>A jak zniknie? *</EM><BR />\n",
      "<P class=\"image_holder\">\n",
      "    <IMG src=\"http://imgs.xkcd.com/comics/the_cloud.png\" />\n",
      "    <A href=\"https://archive.org/search?query=http%3A//imgs.xkcd.com/comics/the_cloud.png\">http://imgs.xkcd.com/comics/the_cloud.png</A>\n",
      "    </P><BR />\n",
      "*<SPAN style=\"font-size:85%\">There's planned downtime every night when we turn on the Roomba and it runs over the cord.</SPAN>\n"
     ]
    }
   ],
   "source": [
    "final_text = replace_linebreaks(post_text, post_uid)\n",
    "final_text = replace_simple_tags(final_text, post_uid)\n",
    "final_text = replace_quotes(final_text, post_uid)\n",
    "final_text = replace_lists(final_text, post_uid)\n",
    "final_text = replace_url(final_text, post_uid)\n",
    "final_text = replace_size(final_text, post_uid)\n",
    "final_text = repalce_color(final_text, post_uid)\n",
    "final_text = replace_img(final_text, post_uid)\n",
    "print(final_text)"
   ]
  },
  {
   "cell_type": "code",
   "execution_count": null,
   "metadata": {},
   "outputs": [],
   "source": []
  }
 ],
 "metadata": {
  "kernelspec": {
   "display_name": "Python 3",
   "language": "python",
   "name": "python3"
  },
  "language_info": {
   "codemirror_mode": {
    "name": "ipython",
    "version": 3
   },
   "file_extension": ".py",
   "mimetype": "text/x-python",
   "name": "python",
   "nbconvert_exporter": "python",
   "pygments_lexer": "ipython3",
   "version": "3.10.12"
  }
 },
 "nbformat": 4,
 "nbformat_minor": 2
}
