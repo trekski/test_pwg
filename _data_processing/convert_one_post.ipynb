{
 "cells": [
  {
   "cell_type": "code",
   "execution_count": 3,
   "metadata": {
    "metadata": {}
   },
   "outputs": [],
   "source": [
    "import pandas as pd\n",
    "from sqlalchemy import create_engine\n",
    "import os\n",
    "import shutil\n",
    "import yaml\n",
    "import re\n",
    "import html\n",
    "import urllib\n",
    "from IPython.display import display, clear_output, display_html"
   ]
  },
  {
   "cell_type": "code",
   "execution_count": 4,
   "metadata": {
    "metadata": {}
   },
   "outputs": [],
   "source": [
    "with open('post_links.yml', 'r') as f:\n",
    "    post_pagination = yaml.load(f.read(), Loader=yaml.FullLoader)\n",
    "\n",
    "with open('smiley_code_map.yml', 'r') as f:\n",
    "    smiley_code_map = yaml.load(f.read(), Loader=yaml.FullLoader)\n"
   ]
  },
  {
   "cell_type": "code",
   "execution_count": 5,
   "metadata": {
    "metadata": {}
   },
   "outputs": [],
   "source": [
    "def replace_simple_tags(txt, bb_uid):\n",
    "    tags = {\n",
    "        'u' : 'U',\n",
    "        'b' : 'STRONG',\n",
    "        'i' : 'EM',\n",
    "        's' : 'STRIKE',\n",
    "        'sup' : 'SUP',\n",
    "        'super' : 'SUP',\n",
    "        'sub' : 'SUB',\n",
    "        'code' : 'PRE',\n",
    "        '*' : 'LI'\n",
    "    }\n",
    "    for t_before, t_after in  tags.items():\n",
    "\n",
    "        start_tag_before = f'[{t_before}:{bb_uid}]'\n",
    "        start_tag_after = f'<{t_after}>'\n",
    "        end_tag_before = f'[/{t_before}:{bb_uid}]'\n",
    "        end_tag_before_m = f'[/{t_before}:m:{bb_uid}]'\n",
    "        end_tag_before_u = f'[/{t_before}:u:{bb_uid}]'\n",
    "        end_tag_before_o = f'[/{t_before}:o:{bb_uid}]'\n",
    "        end_tag_after = f'</{t_after}>'\n",
    "        \n",
    "        txt = txt \\\n",
    "            .replace(start_tag_before, start_tag_after) \\\n",
    "            .replace(end_tag_before, end_tag_after) \\\n",
    "            .replace(end_tag_before_m, end_tag_after) \\\n",
    "            .replace(end_tag_before_u, end_tag_after) \\\n",
    "            .replace(end_tag_before_o, end_tag_after)\n",
    "            \n",
    "    return txt\n"
   ]
  },
  {
   "cell_type": "code",
   "execution_count": 6,
   "metadata": {
    "metadata": {}
   },
   "outputs": [],
   "source": [
    "def replace_linebreaks(txt, bb_uid):\n",
    "    # first, remove excess lien breaks after selected end-tags\n",
    "    rep1 =  r'\\1' + f'[br:{bb_uid}]'\n",
    "    txt = re.sub(f'(\\[\\/(list|quote|code|\\*)(\\:(m|o|u))?\\:{bb_uid}\\])\\n', rep1, txt)\n",
    "    # ... and after selected start tags\n",
    "    txt = re.sub(f'(\\[(list|quote|code|\\*)(=[^\\:]+)?\\:{bb_uid}\\])\\n', rep1, txt)\n",
    "    # then, change all other lien breaks to BRs\n",
    "    txt = re.sub('(?<!\\n)\\n(?!\\n)', '<BR />\\n', txt)\n",
    "    txt = re.sub('(?<!\\n)\\n\\n+(?!\\n)', '<BR />\\n<BR />\\n', txt)\n",
    "    # then restore the linebreaks after selected tags for readability\n",
    "    txt = re.sub(f'\\[br\\:{bb_uid}]', '\\n', txt)\n",
    "    return txt\n"
   ]
  },
  {
   "cell_type": "code",
   "execution_count": 7,
   "metadata": {
    "metadata": {}
   },
   "outputs": [],
   "source": [
    "def replace_quotes(txt, bb_uid):\n",
    "\n",
    "    txt = re.sub(\n",
    "        f'\\[quote\\=(?:\\&quot\\;)([^\\&]+)(?:\\&quot\\;):{bb_uid}\\]',\n",
    "        r'<BLOCKQUOTE><P>\\n»\\1« pisze:<BR />\\n',\n",
    "        txt\n",
    "    )\n",
    "\n",
    "    txt = re.sub(\n",
    "        f'\\[quote\\:{bb_uid}\\]',\n",
    "        r'<BLOCKQUOTE><P>\\ncytat:<BR />\\n',\n",
    "        txt\n",
    "    )\n",
    "\n",
    "    txt = re.sub(\n",
    "        f'\\[\\/quote(\\:(o|u|m))?\\:{bb_uid}\\]',\n",
    "        '\\n</P></BLOCKQUOTE>',\n",
    "        txt\n",
    "    )\n",
    "\n",
    "    return txt\n",
    "    "
   ]
  },
  {
   "cell_type": "code",
   "execution_count": 8,
   "metadata": {
    "metadata": {}
   },
   "outputs": [],
   "source": [
    "def replace_lists(txt, bb_uid):\n",
    "    txt = re.sub(\n",
    "        f'\\[list\\=(.)\\:{bb_uid}\\]',\n",
    "        r'<OL type=\"\\1\">',\n",
    "        txt\n",
    "    )\n",
    "    txt = re.sub(\n",
    "        f'\\[list\\:{bb_uid}\\]',\n",
    "        r'<UL>',\n",
    "        txt\n",
    "    )\n",
    "    txt = re.sub(\n",
    "        f'\\[\\/list\\:o\\:{bb_uid}\\]',\n",
    "        r'</OL>',\n",
    "        txt\n",
    "    )\n",
    "    txt = re.sub(\n",
    "        f'\\[\\/list\\:u\\:{bb_uid}\\]',\n",
    "        r'</UL>',\n",
    "        txt\n",
    "    )\n",
    "\n",
    "    return txt\n"
   ]
  },
  {
   "cell_type": "code",
   "execution_count": 9,
   "metadata": {
    "metadata": {}
   },
   "outputs": [],
   "source": [
    "def translate_url(url):\n",
    "    \n",
    "    print(url)\n",
    "\n",
    "    new_url = url\n",
    "\n",
    "    known_hosts = [\n",
    "        'http://pwgay.org/forum/',\n",
    "        'http://pwgay.7z9.net/forum/'\n",
    "        'http://pwgy.vipserv.org/'\n",
    "    ]\n",
    "    m = 0\n",
    "    for host_pattern in known_hosts:\n",
    "        m += len(re.findall(host_pattern, url))\n",
    "\n",
    "    if m >0 :\n",
    "\n",
    "        param_pattern = '[a-zA-Z]+\\=[0-9a-zA-Z]+'\n",
    "        params = re.search(\n",
    "            f'(?:viewtopic|vievforum).php\\?((?:{param_pattern})(?:\\&{param_pattern})*)',\n",
    "            url\n",
    "        )\n",
    "        \n",
    "        if params != None:\n",
    "\n",
    "            param_arr = params.group(1).split('&')\n",
    "            param_dict = { p.split('=')[0] : p.split('=')[1] for p in param_arr}\n",
    "\n",
    "            post_id = param_dict.get('p')\n",
    "            topic_id = param_dict.get('t')\n",
    "            forum_id = param_dict.get('f')\n",
    "            \n",
    "            if post_id != None:\n",
    "\n",
    "                link_params = post_pagination.get(int(post_id))\n",
    "\n",
    "                if link_params != None:\n",
    "                \n",
    "                    thread_num = link_params['t']\n",
    "                    page_num = link_params['p']\n",
    "                    if page_num == 1:\n",
    "                        new_url = f'/thread/{thread_num}/index.html#post_{post_id}'\n",
    "                    else:\n",
    "                        new_url = f'/thread/{thread_num}/page_{page_num}.html#post_{post_id}'\n",
    "                \n",
    "                else:\n",
    "\n",
    "                    encoded_old_url = urllib.parse.quote(url)\n",
    "                    new_url = f'/missing_post.html?link={encoded_old_url}'\n",
    "\n",
    "            elif topic_id != None:\n",
    "\n",
    "                new_url = f'/threads/{topic_id}/index.html'\n",
    "\n",
    "            elif forum_id != None:\n",
    "\n",
    "                new_url = f'/forums/{forum_id}/index.html'\n",
    "    \n",
    "    return new_url\n"
   ]
  },
  {
   "cell_type": "code",
   "execution_count": 10,
   "metadata": {
    "metadata": {}
   },
   "outputs": [],
   "source": [
    "def url_tag(url, make_tag='none'):\n",
    "    url = html.unescape(url)\n",
    "    url = translate_url(url)\n",
    "    if make_tag == 'full':\n",
    "        url = f'<A href=\"{url}\">{url}</A>'\n",
    "    if make_tag == 'start':\n",
    "        url = f'<A href=\"{url}\">'\n",
    "    return url"
   ]
  },
  {
   "cell_type": "code",
   "execution_count": 11,
   "metadata": {
    "metadata": {}
   },
   "outputs": [],
   "source": [
    "def replace_url(txt, bb_uid):\n",
    "    \n",
    "    # simple URL\n",
    "    txt = re.split(\n",
    "       f'\\[url\\:{bb_uid}\\]([^\\[]+)\\[\\/url\\:{bb_uid}\\]',\n",
    "       txt\n",
    "    )\n",
    "    txt = [ item if index%2 == 0 else url_tag(item, make_tag='full') for index, item in enumerate(txt)]\n",
    "    txt = ''.join(txt)\n",
    "\n",
    "    # complex URL\n",
    "    open_tag = f'\\[url\\=([^\\:]+)\\:{bb_uid}\\]'\n",
    "    close_tag = f'\\[\\/url\\:{bb_uid}\\]'\n",
    "    txt = re.split(\n",
    "        open_tag,\n",
    "        txt\n",
    "    )\n",
    "    txt = [ item if index%2 == 0 else url_tag(item, make_tag='start') for index, item in enumerate(txt)]\n",
    "    txt = ''.join(txt)\n",
    "    txt = re.sub(\n",
    "        close_tag,\n",
    "        '</A>',\n",
    "        txt\n",
    "    )\n",
    "\n",
    "    return txt"
   ]
  },
  {
   "cell_type": "code",
   "execution_count": 12,
   "metadata": {
    "metadata": {}
   },
   "outputs": [],
   "source": [
    "def replace_size(txt, bb_uid):\n",
    "    pattern_start = f'\\[size=([0-9]+)\\:{bb_uid}]'\n",
    "    pattern_end = f'\\[\\/size\\:{bb_uid}]'\n",
    "    txt = re.sub(\n",
    "        pattern_start,\n",
    "        r'<SPAN style=\"font-size:\\1%\">',\n",
    "        txt\n",
    "    )\n",
    "    txt = re.sub(\n",
    "        pattern_end,\n",
    "        r'</SPAN>',\n",
    "        txt\n",
    "    )\n",
    "    return txt\n",
    "    "
   ]
  },
  {
   "cell_type": "code",
   "execution_count": 13,
   "metadata": {
    "metadata": {}
   },
   "outputs": [],
   "source": [
    "def repalce_color(txt, bb_uid):\n",
    "    pattern_start = f'\\[color=([\\#a-zA-Z0-9]+)\\:{bb_uid}\\]'\n",
    "    pattern_end = f'\\[\\/color\\:{bb_uid}]'\n",
    "    txt = re.sub(\n",
    "        pattern_start,\n",
    "        r'<SPAN style=\"color:\\1\">',\n",
    "        txt\n",
    "    )\n",
    "    txt = re.sub(\n",
    "        pattern_end,\n",
    "        r'</SPAN>',\n",
    "        txt\n",
    "    )\n",
    "    return txt"
   ]
  },
  {
   "cell_type": "code",
   "execution_count": 14,
   "metadata": {
    "metadata": {}
   },
   "outputs": [],
   "source": [
    "def img_tag(url):\n",
    "\n",
    "    url = html.unescape(url)\n",
    "    search_url = f'https://web.archive.org/web/20240000000000*/{url}'\n",
    "    search_url_safe = html.escape(search_url)\n",
    "    url_display = url\n",
    "    if len(url) >50:\n",
    "        url_display = f'{url[:20]} ... {url[-20:]}'\n",
    "    url_display = html.escape(url_display)\n",
    "    tag =f'''<P class=\"image_holder\">\n",
    "    <IMG src=\"{url}\" /><br />\n",
    "    <A href=\"{search_url_safe}\" title=\"poszukaj w internet archive\">{url_display}</A>\n",
    "    </P>'''\n",
    "    return tag\n"
   ]
  },
  {
   "cell_type": "code",
   "execution_count": 15,
   "metadata": {
    "metadata": {}
   },
   "outputs": [],
   "source": [
    "def replace_img(txt, bb_uid):\n",
    "   \n",
    "    txt = re.split(\n",
    "       f'\\[img\\:{bb_uid}\\]([^\\[]+)\\[\\/img\\:{bb_uid}\\]',\n",
    "       txt\n",
    "    )\n",
    "    txt = [ item if index%2 == 0 else img_tag(item) for index, item in enumerate(txt)]\n",
    "    txt = ''.join(txt)\n",
    "\n",
    "    return txt"
   ]
  },
  {
   "cell_type": "code",
   "execution_count": 16,
   "metadata": {
    "metadata": {}
   },
   "outputs": [],
   "source": [
    "def replace_attachment(txt, post_id, bb_uid):\n",
    "    pattern_start= f'\\[attachment=([0-9]+)\\:{bb_uid}\\]'\n",
    "    pattern_end = f'\\[\\/attachment\\:{bb_uid}\\]'\n",
    "    txt = re.sub(\n",
    "        pattern_start,\n",
    "        f'<A {{% include inline_attachment.html post_id={post_id} ' + r'attachment_index=\\1' + ' %} />',\n",
    "        txt\n",
    "    )\n",
    "    txt = re.sub(\n",
    "        pattern_end,\n",
    "        '</A>',\n",
    "        txt\n",
    "    )\n",
    "    return txt"
   ]
  },
  {
   "cell_type": "code",
   "execution_count": 17,
   "metadata": {
    "metadata": {}
   },
   "outputs": [],
   "source": [
    "def map_smiely_code(code):\n",
    "    smiley_id = smiley_code_map[code]\n",
    "    smiley_txt = f'{{% include smiley.html smiely_id={smiley_id} %}}'\n",
    "    return smiley_txt"
   ]
  },
  {
   "cell_type": "code",
   "execution_count": 55,
   "metadata": {
    "metadata": {}
   },
   "outputs": [],
   "source": [
    "def replace_smilies(txt):\n",
    "    pattern = r'\\<\\!\\-\\- s([^\\ ]+) \\-\\-\\>\\<img +src\\=\\\"\\{SMILIES\\_PATH\\}\\/[^\\\"]+\\\"(?: +alt\\=\\\"[^\\\"]+\\\")?(?: +title\\=\\\"[^\"]+\\\")? \\/\\>\\<\\!\\-\\- s[^ ]+ \\-\\-\\>'\n",
    "    txt = re.split(\n",
    "        pattern,\n",
    "        txt\n",
    "    )\n",
    "    print(txt)\n",
    "    txt = [value if index%2 == 0 else  map_smiely_code(value) for index, value in enumerate(txt)]\n",
    "\n",
    "    return ''.join(txt)"
   ]
  },
  {
   "cell_type": "code",
   "execution_count": 19,
   "metadata": {
    "metadata": {}
   },
   "outputs": [],
   "source": [
    "def tex_tag(txt):\n",
    "    tex = html.unescape(txt)\n",
    "    url = urllib.parse.quote(tex)\n",
    "    tex = tex.replace('\\n', '')\n",
    "    tex = re.sub(' +', ' ', tex)\n",
    "    tag = '<DIV class=\"tex\">' + \\\n",
    "        f'<IMG src=\"https://latex.codecogs.com/gif.latex?{url}\" alt=\"{tex}\" title=\"{tex}\"/>' + \\\n",
    "        f'<div><CODE>{tex}</CODE></div>' + \\\n",
    "        '</div>'\n",
    "    return tag"
   ]
  },
  {
   "cell_type": "code",
   "execution_count": 20,
   "metadata": {
    "metadata": {}
   },
   "outputs": [],
   "source": [
    "def replace_tex(txt, bb_uid):\n",
    "    \n",
    "    txt = re.split(\n",
    "       f'(\\[tex\\:{bb_uid}\\]|\\[\\/tex\\:{bb_uid}\\])\\n*',\n",
    "       txt\n",
    "    )\n",
    "    \n",
    "    txt = [value if index% 4 == 0 else tex_tag(value) for index, value in enumerate(txt) if index%2 == 0]\n",
    "    txt = ''.join(txt)\n",
    "\n",
    "    return txt"
   ]
  },
  {
   "cell_type": "code",
   "execution_count": 21,
   "metadata": {
    "metadata": {}
   },
   "outputs": [],
   "source": [
    "def yt_tag(txt):\n",
    "\n",
    "    tag = f'<iframe width=\"560\" height=\"315\" src=\"https://www.youtube.com/embed/{txt}\"></iframe>'\n",
    "    tag= '<DIV class=\"youtube_embed\">' + \\\n",
    "        f'<iframe  width=\"560\" height=\"315\" src=\"https://www.youtube.com/embed/{txt}\"></iframe>' + \\\n",
    "        f'<div><A href=\"https://www.youtube.com/watch?v={txt}\" title=\"zobacz na YouTube\">' + \\\n",
    "        f'https://www.youtube.com/watch?v={txt}' + \\\n",
    "        '</A></div></DIV>'\n",
    "    return tag\n"
   ]
  },
  {
   "cell_type": "code",
   "execution_count": 22,
   "metadata": {
    "metadata": {}
   },
   "outputs": [],
   "source": [
    "def replace_youtube(txt, bb_uid):\n",
    "\n",
    "    txt = re.split(\n",
    "       f'(\\[youtube\\:{bb_uid}\\]|\\[\\/youtube\\:{bb_uid}\\])\\n*',\n",
    "       txt\n",
    "    )\n",
    "    \n",
    "    txt = [value if index% 4 == 0 else yt_tag(value) for index, value in enumerate(txt) if index%2 == 0]\n",
    "    txt = ''.join(txt)\n",
    "\n",
    "    return txt\n"
   ]
  },
  {
   "cell_type": "code",
   "execution_count": 23,
   "metadata": {
    "metadata": {}
   },
   "outputs": [],
   "source": [
    "def parese_post_bb_code(text, post_id, bb_uid):\n",
    "    final_text = replace_tex(text, bb_uid)\n",
    "    final_text = replace_linebreaks(final_text, bb_uid)\n",
    "    final_text = replace_simple_tags(final_text, bb_uid)\n",
    "    final_text = replace_quotes(final_text, bb_uid)\n",
    "    final_text = replace_lists(final_text, bb_uid)\n",
    "    final_text = replace_url(final_text, bb_uid)\n",
    "    final_text = replace_size(final_text, bb_uid)\n",
    "    final_text = repalce_color(final_text, bb_uid)\n",
    "    final_text = replace_img(final_text, bb_uid)\n",
    "    final_text = replace_attachment(final_text, post_id, bb_uid)\n",
    "    final_text = replace_smilies(final_text)\n",
    "    final_text = replace_youtube(final_text, bb_uid)\n",
    "    return final_text\n",
    "    "
   ]
  },
  {
   "cell_type": "code",
   "execution_count": null,
   "metadata": {
    "metadata": {}
   },
   "outputs": [],
   "source": [
    "def print_progress(progress_log):\n",
    "    with open('post_processing_log.yml', 'w') as f:\n",
    "        f.write(yaml.dump(progress_log))\n",
    "    clear_output(wait=True)\n",
    "    display(progress_log['last_file_path'])"
   ]
  },
  {
   "cell_type": "code",
   "execution_count": null,
   "metadata": {
    "metadata": {}
   },
   "outputs": [],
   "source": [
    "def process_post(post_content, progress_log):\n",
    "\n",
    "    post_meta = {k : v for k, v in post_content.items() if k not in ['post_text', 'bbcode_uid']}\n",
    "    post_text = post_content['post_text']\n",
    "    post_uid = post_content['bbcode_uid']\n",
    "    post_id = post_meta['post_id']\n",
    "    post_forum = post_meta['forum_id']\n",
    "    post_thread = post_meta['topic_id']\n",
    "    post_meta['category'] =  post_meta['topic_id']\n",
    "\n",
    "    post_meta['post_timestamp'] = post_meta['post_timestamp'].to_pydatetime()\n",
    "\n",
    "    post_text_processed = parese_post_bb_code(post_text, post_id, post_uid)\n",
    "\n",
    "    post_dir_path = os.path.join('..', '_tests','_forum_posts', f'forum_{post_forum}', f'thread_{post_thread}')\n",
    "    if not os.path.exists(post_dir_path):\n",
    "        os.makedirs(post_dir_path)\n",
    "    post_file_path = os.path.join(post_dir_path, f'post_{post_id}.html')\n",
    "    with open(post_file_path, 'w') as f:\n",
    "        f.write('---\\n')\n",
    "        f.write(yaml.dump(post_meta, default_style='\"' ))\n",
    "        f.write('---\\n')\n",
    "        f.write(post_text_processed)\n",
    "\n",
    "    progress_log['last_post'] = post_id\n",
    "    progress_log['last_file_path'] = post_file_path\n",
    "    print_progress(progress_log)\n",
    "    \n",
    "    return post_content"
   ]
  },
  {
   "cell_type": "code",
   "execution_count": 62,
   "metadata": {
    "metadata": {}
   },
   "outputs": [
    {
     "data": {
      "text/plain": [
       "[0, 2, 11, 16, 22, 19, 40, 3, 20, 41, 15, 21, 12, 29, 30, 31]"
      ]
     },
     "execution_count": 62,
     "metadata": {},
     "output_type": "execute_result"
    }
   ],
   "source": [
    "with open('post_processing_log.yml', 'r') as f:\n",
    "    progress = yaml.load(\n",
    "        f.read(),\n",
    "        Loader=yaml.FullLoader\n",
    "    )\n",
    "\n",
    "with open('forum_checklist.yml', 'r') as f:\n",
    "    forum_list = yaml.load(\n",
    "        f.read(),\n",
    "        Loader=yaml.FullLoader\n",
    "    )\n",
    "\n",
    "forum_list.insert(0, 0)"
   ]
  },
  {
   "cell_type": "code",
   "execution_count": null,
   "metadata": {
    "metadata": {}
   },
   "outputs": [],
   "source": [
    "db = os.environ.get('PSQL_DATABASE')\n",
    "host = 'localhost'\n",
    "user ='user'\n",
    "port = '5432'\n",
    "psql_engine = f'postgresql://{user}:@{host}:{port}/{db}'"
   ]
  },
  {
   "cell_type": "code",
   "execution_count": null,
   "metadata": {
    "metadata": {}
   },
   "outputs": [],
   "source": [
    "with open('get_all_threads.sql', 'r') as f:\n",
    "    all_threads_template = f.read()\n",
    "\n",
    "with open('get_threads_posts.sql', 'r') as f:\n",
    "    threads_posts_template = f.read()\n",
    "\n",
    "all_threads_query = all_threads_template.format(\n",
    "    forums = ', '.join([str(i) for i in forum_list]),\n",
    "    from_forum = progress['last_forum'],\n",
    "    from_thread = progress['last_thread'],\n",
    "    from_post = progress['last_post']\n",
    ")\n",
    "\n",
    "all_topics = pd.read_sql(all_threads_query, psql_engine).to_dict(orient='records')"
   ]
  },
  {
   "cell_type": "code",
   "execution_count": null,
   "metadata": {
    "metadata": {}
   },
   "outputs": [],
   "source": [
    "for topic in all_topics:\n",
    "\n",
    "    progress['last_forum'] = topic['forum_id']\n",
    "    progress['last_thread'] = topic['topic_id']\n",
    "    progress['last_post'] = -1\n",
    "    progress['last_file_path'] = ''\n",
    "    print_progress(progress)\n",
    "\n",
    "    topic_posts_query = threads_posts_template.format(\n",
    "        thread_id = topic['topic_id']\n",
    "    )\n",
    "\n",
    "    topic_posts = pd.read_sql(topic_posts_query ,psql_engine)\n",
    "\n",
    "    for post in topic_posts.iterrows():\n",
    "       process_post(post[1], progress)\n"
   ]
  },
  {
   "cell_type": "code",
   "execution_count": null,
   "metadata": {},
   "outputs": [],
   "source": []
  }
 ],
 "metadata": {
  "kernelspec": {
   "display_name": "Python 3",
   "language": "python",
   "name": "python3"
  },
  "language_info": {
   "codemirror_mode": {
    "name": "ipython",
    "version": 3
   },
   "file_extension": ".py",
   "mimetype": "text/x-python",
   "name": "python",
   "nbconvert_exporter": "python",
   "pygments_lexer": "ipython3",
   "version": "3.10.12"
  }
 },
 "nbformat": 4,
 "nbformat_minor": 2
}
