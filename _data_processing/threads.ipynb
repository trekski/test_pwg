{
 "cells": [
  {
   "cell_type": "code",
   "execution_count": 1,
   "metadata": {},
   "outputs": [],
   "source": [
    "import pandas as pd\n",
    "from sqlalchemy import create_engine\n",
    "import os\n",
    "import shutil\n",
    "import yaml"
   ]
  },
  {
   "cell_type": "code",
   "execution_count": 2,
   "metadata": {},
   "outputs": [],
   "source": [
    "db = os.environ.get('PSQL_DATABASE')\n",
    "host = 'localhost'\n",
    "user ='user'\n",
    "port = '5432'\n",
    "psql_engine = f'postgresql://{user}:@{host}:{port}/{db}'"
   ]
  },
  {
   "cell_type": "code",
   "execution_count": 3,
   "metadata": {},
   "outputs": [],
   "source": [
    "with open(\"get_thread_list.sql\", \"r\") as f:\n",
    "    sql_template = f.readlines()"
   ]
  },
  {
   "cell_type": "code",
   "execution_count": 4,
   "metadata": {},
   "outputs": [],
   "source": [
    "fora = [0, 2, 11, 16, 22, 19, 40, 18, 3, 20, 41, 15, 21, 12, 29, 30, 31]"
   ]
  },
  {
   "cell_type": "code",
   "execution_count": 5,
   "metadata": {},
   "outputs": [],
   "source": [
    "for forum in fora:\n",
    "\n",
    "    slq_statement = ''.join(sql_template).format(forum = forum)\n",
    "\n",
    "    forum_path = os.path.join(f'../_tests/_threads/forum_{forum}')\n",
    "    if not os.path.exists(forum_path):\n",
    "        os.makedirs(forum_path)\n",
    "\n",
    "    df = pd.read_sql(slq_statement, psql_engine)\n",
    "\n",
    "    for r in df.iterrows():\n",
    "        \n",
    "        thread_data = r[1]\n",
    "        thread_file_path = os.path.join(\n",
    "            forum_path,\n",
    "            f\"thread_{thread_data['topic_id']}.md\"\n",
    "        )\n",
    "        with open(thread_file_path, \"w\") as f:\n",
    "            f.write(\"---\\n\")\n",
    "            f.write(yaml.dump(dict(thread_data)))\n",
    "            f.write(\"---\\n\")"
   ]
  },
  {
   "cell_type": "code",
   "execution_count": null,
   "metadata": {},
   "outputs": [],
   "source": []
  }
 ],
 "metadata": {
  "kernelspec": {
   "display_name": "Python 3",
   "language": "python",
   "name": "python3"
  },
  "language_info": {
   "codemirror_mode": {
    "name": "ipython",
    "version": 3
   },
   "file_extension": ".py",
   "mimetype": "text/x-python",
   "name": "python",
   "nbconvert_exporter": "python",
   "pygments_lexer": "ipython3",
   "version": "3.10.12"
  }
 },
 "nbformat": 4,
 "nbformat_minor": 2
}
